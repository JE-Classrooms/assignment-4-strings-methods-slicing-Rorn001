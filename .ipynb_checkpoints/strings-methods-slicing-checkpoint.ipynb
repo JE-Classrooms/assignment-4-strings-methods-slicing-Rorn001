{
 "cells": [
  {
   "cell_type": "markdown",
   "metadata": {},
   "source": [
    "# Assignment 4"
   ]
  },
  {
   "cell_type": "markdown",
   "metadata": {},
   "source": [
    "1. Given two strings, s1 and s2, write a program to return a new string made of s1 and s2’s first, middle, and last characters all in capital letters."
   ]
  },
  {
   "cell_type": "code",
   "execution_count": 13,
   "metadata": {},
   "outputs": [
    {
     "name": "stdin",
     "output_type": "stream",
     "text": [
      "first string lsda\n",
      "second string ggr\n"
     ]
    },
    {
     "name": "stdout",
     "output_type": "stream",
     "text": [
      "new string is LSAGGR\n"
     ]
    }
   ],
   "source": [
    "s1=input(\"first string\")\n",
    "s2=input(\"second string\")\n",
    "\n",
    "def snew():\n",
    "    return s1[0]+s1[1]+s1[-1]+s2[0]+s2[1]+s2[-1]\n",
    "\n",
    "x=snew()\n",
    "\n",
    "print(\"new string is\", x.upper())\n",
    "\n",
    "    "
   ]
  },
  {
   "cell_type": "markdown",
   "metadata": {},
   "source": [
    "2. Calculate the sum and the averages of the numbers in the following string while ignoring all other characters:\n",
    "\n",
    "    ```aa4a649##aq#2```"
   ]
  },
  {
   "cell_type": "code",
   "execution_count": 37,
   "metadata": {},
   "outputs": [
    {
     "data": {
      "text/plain": [
       "str"
      ]
     },
     "execution_count": 37,
     "metadata": {},
     "output_type": "execute_result"
    }
   ],
   "source": [
    "s3=\"aa4a649##aq#2\"\n",
    "\n",
    "s3=s3.replace('a','')\n",
    "s3=s3.replace('#','')\n",
    "s3=s3.replace('q','')\n",
    "type(s3)\n",
    "\n",
    "\n",
    "\n",
    "\n",
    "\n"
   ]
  },
  {
   "cell_type": "code",
   "execution_count": 39,
   "metadata": {},
   "outputs": [],
   "source": [
    "lis = []\n",
    "for x in s3:\n",
    "    lis.append(float(x))\n"
   ]
  },
  {
   "cell_type": "code",
   "execution_count": 40,
   "metadata": {},
   "outputs": [
    {
     "data": {
      "text/plain": [
       "[4.0, 6.0, 4.0, 9.0, 2.0]"
      ]
     },
     "execution_count": 40,
     "metadata": {},
     "output_type": "execute_result"
    }
   ],
   "source": [
    "lis"
   ]
  },
  {
   "cell_type": "code",
   "execution_count": 43,
   "metadata": {},
   "outputs": [
    {
     "name": "stdout",
     "output_type": "stream",
     "text": [
      "5.0\n",
      "25.0\n"
     ]
    }
   ],
   "source": [
    "from statistics import mean\n",
    "    \n",
    "print(mean(lis))\n",
    "print(sum(lis))"
   ]
  },
  {
   "cell_type": "markdown",
   "metadata": {},
   "source": [
    "3. Extract the last name Culberson from the following legislative action:\n",
    "\n",
    "    ```WORDS TAKEN DOWN - During the course of debate, exception was taken to certain words used and a demand was made to have words taken down. Mr. Culberson asked unanimous consent to withdraw the words. Without objection the words were withdrawn. The House resumed debate on S. 22 .```\n",
    "\n",
    "    **Hint:** use the method [split](https://www.w3schools.com/python/ref_string_split.asp)"
   ]
  },
  {
   "cell_type": "code",
   "execution_count": 5,
   "metadata": {},
   "outputs": [
    {
     "name": "stdout",
     "output_type": "stream",
     "text": [
      "Culberson\n"
     ]
    }
   ],
   "source": [
    "txt=\"WORDS TAKEN DOWN - During the course of debate, exception was taken to certain words used and a demand was made to have words taken down. Mr. Culberson asked unanimous consent to withdraw the words. Without objection the words were withdrawn. The House resumed debate on S. 22 .\"\n",
    "x=txt.split()\n",
    "print(x[x.index(\"Culberson\")])"
   ]
  },
  {
   "cell_type": "markdown",
   "metadata": {},
   "source": [
    "4. Extract the two integers from the following sentence and transform them intro ```int``` type\n",
    "\n",
    "    ```Passed Senate with amendments by Yea-Nay Vote. 73 - 21. Record Vote Number: 3 . (text: CR S430-557 )```"
   ]
  },
  {
   "cell_type": "code",
   "execution_count": 33,
   "metadata": {},
   "outputs": [
    {
     "name": "stdout",
     "output_type": "stream",
     "text": [
      "['Passed', 'Senate', 'with', 'amendments', 'by', 'Yea-Nay', 'Vote.', '73', '-', '21.', 'Record', 'Vote', 'Number:', '3', '.', '(text:', 'CR', 'S430-557', ')']\n",
      "73\n",
      "3\n"
     ]
    }
   ],
   "source": [
    "txt2='Passed Senate with amendments by Yea-Nay Vote. 73 - 21. Record Vote Number: 3 . (text: CR S430-557 )'\n",
    "y=txt2.split()\n",
    "print(y)\n",
    "print(int(y[y.index(\"73\")]))\n",
    "print(int(y[y.index(\"3\")]))\n",
    "\n"
   ]
  }
 ],
 "metadata": {
  "kernelspec": {
   "display_name": "conda_amazonei_mxnet_p36",
   "language": "python",
   "name": "conda_amazonei_mxnet_p36"
  },
  "language_info": {
   "codemirror_mode": {
    "name": "ipython",
    "version": 3
   },
   "file_extension": ".py",
   "mimetype": "text/x-python",
   "name": "python",
   "nbconvert_exporter": "python",
   "pygments_lexer": "ipython3",
   "version": "3.6.13"
  },
  "vscode": {
   "interpreter": {
    "hash": "11838f79d2aaadbfa3a2adfaf35bacdebdb4e8d9b63957ddf298964812544a76"
   }
  }
 },
 "nbformat": 4,
 "nbformat_minor": 4
}
